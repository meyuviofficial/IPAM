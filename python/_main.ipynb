{
 "cells": [
  {
   "cell_type": "code",
   "execution_count": 1,
   "metadata": {},
   "outputs": [],
   "source": [
    "from multiprocessing.sharedctypes import Value\n",
    "import radix as r\n",
    "import pandas as pd\n",
    "import numpy as np\n",
    "import ipaddress as ip\n",
    "import time"
   ]
  },
  {
   "cell_type": "code",
   "execution_count": 3,
   "metadata": {},
   "outputs": [
    {
     "name": "stdout",
     "output_type": "stream",
     "text": [
      "                INFOBLOX_TABLE  ROUTING_TABLE\n",
      "0                   3.0.0.3/32  10.39.42.0/23\n",
      "1      3.0.0.0/255.255.255.255  10.39.42.0/23\n",
      "2                  3.0.0.64/26  10.39.44.0/22\n",
      "3                   3.0.1.0/24  10.39.48.0/22\n",
      "4                4.79.90.12/30  10.39.52.0/22\n",
      "...                        ...            ...\n",
      "94406         239.195.192.0/19               \n",
      "94407         239.195.224.0/19               \n",
      "94408           239.196.0.0/18               \n",
      "94409          239.196.64.0/18               \n",
      "94410         239.196.128.0/17               \n",
      "\n",
      "[94411 rows x 2 columns]\n"
     ]
    }
   ],
   "source": [
    "data = pd.read_csv(\"../Data/ip_data.csv\", na_filter=False)\n",
    "print(data)"
   ]
  },
  {
   "cell_type": "code",
   "execution_count": 9,
   "metadata": {},
   "outputs": [],
   "source": [
    "class IPAM:\n",
    "    def __init__(self) -> None:\n",
    "        self.data = pd.read_csv(\"../Data/ip_data.csv\", na_filter=False)\n",
    "\n",
    "    def main(self) -> None:\n",
    "        left_Tree = r.Radix()\n",
    "        right_Tree = r.Radix()\n",
    "\n",
    "        # Self Overlap\n",
    "        for index, row in self.data.iterrows():\n",
    "            if self.data[\"INFOBLOX_TABLE\"][index]:\n",
    "                try:\n",
    "                    curr_network = str(ip.ip_network(\n",
    "                        self.data[\"INFOBLOX_TABLE\"][index]))\n",
    "                except ValueError:\n",
    "                    print(\n",
    "                        f\"The row : { self.data['INFOBLOX_TABLE'][index] } is not in the correct format\")\n",
    "                else:\n",
    "                    if curr_network:\n",
    "                        new_node = left_Tree.search_best(curr_network)\n",
    "                        if not new_node:\n",
    "                            curr_node = left_Tree.add(curr_network)\n",
    "                            self.data.at[index,\n",
    "                                         \"SELF_OVERLAP_A\"] = \"NO_OVERLAP\"\n",
    "                            curr_node.data[\"INDEX\"] = index\n",
    "                        else:\n",
    "                            self.data.at[index,\n",
    "                                         \"SELF_OVERLAP_A\"] = new_node.data[\"INDEX\"]\n",
    "\n",
    "        for index, row in self.data.iterrows():\n",
    "            if self.data[\"ROUTING_TABLE\"][index]:\n",
    "                try:\n",
    "                    curr_network = str(ip.ip_network(\n",
    "                        self.data[\"ROUTING_TABLE\"][index]))\n",
    "                except ValueError:\n",
    "                    print(\n",
    "                        f\"The row : { self.data['ROUTING_TABLE'][index] } is not in the correct format\")\n",
    "                else:\n",
    "                    if curr_network:\n",
    "                        new_node = right_Tree.search_best(curr_network)\n",
    "                        if not new_node:\n",
    "                            curr_node = right_Tree.add(curr_network)\n",
    "                            self.data.at[index,\n",
    "                                         \"SELF_OVERLAP_B\"] = \"NO_OVERLAP\"\n",
    "                            curr_node.data[\"INDEX\"] = index\n",
    "                        else:\n",
    "                            self.data.at[index,\n",
    "                                         \"SELF_OVERLAP_B\"] = new_node.data[\"INDEX\"]\n",
    "\n",
    "        # CROSS OVERLAP\n",
    "        for index, row in self.data.iterrows():\n",
    "            if self.data[\"ROUTING_TABLE\"][index]:\n",
    "                try:\n",
    "                    curr_network = str(ip.ip_network(\n",
    "                        self.data[\"ROUTING_TABLE\"][index]))\n",
    "                except ValueError:\n",
    "                    print(\n",
    "                        f\"The row : { self.data['ROUTING_TABLE'][index] } is not in the correct format\")\n",
    "                else:\n",
    "                    if curr_network:\n",
    "                        new_node = left_Tree.search_best(curr_network)\n",
    "                        if not new_node:\n",
    "                            curr_node = left_Tree.add(curr_network)\n",
    "                            self.data.at[index,\n",
    "                                         \"CROSS_OVERLAP_B_2_A\"] = \"NO_OVERLAP\"\n",
    "                            curr_node.data[\"INDEX\"] = index\n",
    "                        else:\n",
    "                            self.data.at[index,\n",
    "                                         \"CROSS_OVERLAP_B_2_A\"] = new_node.data[\"INDEX\"]\n",
    "\n",
    "        for index, row in self.data.iterrows():\n",
    "            if self.data[\"INFOBLOX_TABLE\"][index]:\n",
    "                try:\n",
    "                    curr_network = str(ip.ip_network(\n",
    "                        self.data[\"INFOBLOX_TABLE\"][index]))\n",
    "                except ValueError:\n",
    "                    print(\n",
    "                        f\"The row : { self.data['INFOBLOX_TABLE'][index] } is not in the correct format\")\n",
    "                else:\n",
    "                    if curr_network:\n",
    "                        new_node = right_Tree.search_best(curr_network)\n",
    "                        if not new_node:\n",
    "                            curr_node = right_Tree.add(curr_network)\n",
    "                            self.data.at[index,\n",
    "                                         \"CROSS_OVERLAP_A_2_B\"] = \"NO_OVERLAP\"\n",
    "                            curr_node.data[\"INDEX\"] = index\n",
    "                        else:\n",
    "                            self.data.at[index,\n",
    "                                         \"CROSS_OVERLAP_A_2_B\"] = new_node.data[\"INDEX\"]\n",
    "\n",
    "        self.data.to_csv(\"../Data/out/Output.csv\")\n"
   ]
  },
  {
   "cell_type": "code",
   "execution_count": 10,
   "metadata": {},
   "outputs": [
    {
     "ename": "PermissionError",
     "evalue": "[Errno 13] Permission denied: '../Data/out/Output.csv'",
     "output_type": "error",
     "traceback": [
      "\u001b[1;31m---------------------------------------------------------------------------\u001b[0m",
      "\u001b[1;31mPermissionError\u001b[0m                           Traceback (most recent call last)",
      "\u001b[1;32mc:\\Users\\Yuvaraj.Selvarajan\\OneDrive\\Documents\\SideHustle\\IPAM\\IPAM\\python\\_main.ipynb Cell 4\u001b[0m in \u001b[0;36m<cell line: 3>\u001b[1;34m()\u001b[0m\n\u001b[0;32m      <a href='vscode-notebook-cell:/c%3A/Users/Yuvaraj.Selvarajan/OneDrive/Documents/SideHustle/IPAM/IPAM/python/_main.ipynb#ch0000005?line=0'>1</a>\u001b[0m start \u001b[39m=\u001b[39m time\u001b[39m.\u001b[39mperf_counter()\n\u001b[0;32m      <a href='vscode-notebook-cell:/c%3A/Users/Yuvaraj.Selvarajan/OneDrive/Documents/SideHustle/IPAM/IPAM/python/_main.ipynb#ch0000005?line=1'>2</a>\u001b[0m _ipam \u001b[39m=\u001b[39m IPAM()\n\u001b[1;32m----> <a href='vscode-notebook-cell:/c%3A/Users/Yuvaraj.Selvarajan/OneDrive/Documents/SideHustle/IPAM/IPAM/python/_main.ipynb#ch0000005?line=2'>3</a>\u001b[0m _ipam\u001b[39m.\u001b[39;49mmain()\n\u001b[0;32m      <a href='vscode-notebook-cell:/c%3A/Users/Yuvaraj.Selvarajan/OneDrive/Documents/SideHustle/IPAM/IPAM/python/_main.ipynb#ch0000005?line=3'>4</a>\u001b[0m end \u001b[39m=\u001b[39m time\u001b[39m.\u001b[39mperf_counter()\n\u001b[0;32m      <a href='vscode-notebook-cell:/c%3A/Users/Yuvaraj.Selvarajan/OneDrive/Documents/SideHustle/IPAM/IPAM/python/_main.ipynb#ch0000005?line=4'>5</a>\u001b[0m \u001b[39mprint\u001b[39m(\u001b[39mf\u001b[39m\u001b[39m\"\u001b[39m\u001b[39mThe Whole script completed in \u001b[39m\u001b[39m{\u001b[39;00mend\u001b[39m-\u001b[39mstart\u001b[39m:\u001b[39;00m\u001b[39m0.4f\u001b[39m\u001b[39m}\u001b[39;00m\u001b[39m seconds\u001b[39m\u001b[39m\"\u001b[39m)\n",
      "\u001b[1;32mc:\\Users\\Yuvaraj.Selvarajan\\OneDrive\\Documents\\SideHustle\\IPAM\\IPAM\\python\\_main.ipynb Cell 4\u001b[0m in \u001b[0;36mIPAM.main\u001b[1;34m(self)\u001b[0m\n\u001b[0;32m     <a href='vscode-notebook-cell:/c%3A/Users/Yuvaraj.Selvarajan/OneDrive/Documents/SideHustle/IPAM/IPAM/python/_main.ipynb#ch0000005?line=86'>87</a>\u001b[0m                 \u001b[39melse\u001b[39;00m:\n\u001b[0;32m     <a href='vscode-notebook-cell:/c%3A/Users/Yuvaraj.Selvarajan/OneDrive/Documents/SideHustle/IPAM/IPAM/python/_main.ipynb#ch0000005?line=87'>88</a>\u001b[0m                     \u001b[39mself\u001b[39m\u001b[39m.\u001b[39mdata\u001b[39m.\u001b[39mat[index,\n\u001b[0;32m     <a href='vscode-notebook-cell:/c%3A/Users/Yuvaraj.Selvarajan/OneDrive/Documents/SideHustle/IPAM/IPAM/python/_main.ipynb#ch0000005?line=88'>89</a>\u001b[0m                                  \u001b[39m\"\u001b[39m\u001b[39mCROSS_OVERLAP_A_2_B\u001b[39m\u001b[39m\"\u001b[39m] \u001b[39m=\u001b[39m new_node\u001b[39m.\u001b[39mdata[\u001b[39m\"\u001b[39m\u001b[39mINDEX\u001b[39m\u001b[39m\"\u001b[39m]\n\u001b[1;32m---> <a href='vscode-notebook-cell:/c%3A/Users/Yuvaraj.Selvarajan/OneDrive/Documents/SideHustle/IPAM/IPAM/python/_main.ipynb#ch0000005?line=90'>91</a>\u001b[0m \u001b[39mself\u001b[39;49m\u001b[39m.\u001b[39;49mdata\u001b[39m.\u001b[39;49mto_csv(\u001b[39m\"\u001b[39;49m\u001b[39m../Data/out/Output.csv\u001b[39;49m\u001b[39m\"\u001b[39;49m)\n",
      "File \u001b[1;32m~\\AppData\\Roaming\\Python\\Python310\\site-packages\\pandas\\core\\generic.py:3551\u001b[0m, in \u001b[0;36mNDFrame.to_csv\u001b[1;34m(self, path_or_buf, sep, na_rep, float_format, columns, header, index, index_label, mode, encoding, compression, quoting, quotechar, line_terminator, chunksize, date_format, doublequote, escapechar, decimal, errors, storage_options)\u001b[0m\n\u001b[0;32m   3540\u001b[0m df \u001b[39m=\u001b[39m \u001b[39mself\u001b[39m \u001b[39mif\u001b[39;00m \u001b[39misinstance\u001b[39m(\u001b[39mself\u001b[39m, ABCDataFrame) \u001b[39melse\u001b[39;00m \u001b[39mself\u001b[39m\u001b[39m.\u001b[39mto_frame()\n\u001b[0;32m   3542\u001b[0m formatter \u001b[39m=\u001b[39m DataFrameFormatter(\n\u001b[0;32m   3543\u001b[0m     frame\u001b[39m=\u001b[39mdf,\n\u001b[0;32m   3544\u001b[0m     header\u001b[39m=\u001b[39mheader,\n\u001b[1;32m   (...)\u001b[0m\n\u001b[0;32m   3548\u001b[0m     decimal\u001b[39m=\u001b[39mdecimal,\n\u001b[0;32m   3549\u001b[0m )\n\u001b[1;32m-> 3551\u001b[0m \u001b[39mreturn\u001b[39;00m DataFrameRenderer(formatter)\u001b[39m.\u001b[39;49mto_csv(\n\u001b[0;32m   3552\u001b[0m     path_or_buf,\n\u001b[0;32m   3553\u001b[0m     line_terminator\u001b[39m=\u001b[39;49mline_terminator,\n\u001b[0;32m   3554\u001b[0m     sep\u001b[39m=\u001b[39;49msep,\n\u001b[0;32m   3555\u001b[0m     encoding\u001b[39m=\u001b[39;49mencoding,\n\u001b[0;32m   3556\u001b[0m     errors\u001b[39m=\u001b[39;49merrors,\n\u001b[0;32m   3557\u001b[0m     compression\u001b[39m=\u001b[39;49mcompression,\n\u001b[0;32m   3558\u001b[0m     quoting\u001b[39m=\u001b[39;49mquoting,\n\u001b[0;32m   3559\u001b[0m     columns\u001b[39m=\u001b[39;49mcolumns,\n\u001b[0;32m   3560\u001b[0m     index_label\u001b[39m=\u001b[39;49mindex_label,\n\u001b[0;32m   3561\u001b[0m     mode\u001b[39m=\u001b[39;49mmode,\n\u001b[0;32m   3562\u001b[0m     chunksize\u001b[39m=\u001b[39;49mchunksize,\n\u001b[0;32m   3563\u001b[0m     quotechar\u001b[39m=\u001b[39;49mquotechar,\n\u001b[0;32m   3564\u001b[0m     date_format\u001b[39m=\u001b[39;49mdate_format,\n\u001b[0;32m   3565\u001b[0m     doublequote\u001b[39m=\u001b[39;49mdoublequote,\n\u001b[0;32m   3566\u001b[0m     escapechar\u001b[39m=\u001b[39;49mescapechar,\n\u001b[0;32m   3567\u001b[0m     storage_options\u001b[39m=\u001b[39;49mstorage_options,\n\u001b[0;32m   3568\u001b[0m )\n",
      "File \u001b[1;32m~\\AppData\\Roaming\\Python\\Python310\\site-packages\\pandas\\io\\formats\\format.py:1180\u001b[0m, in \u001b[0;36mDataFrameRenderer.to_csv\u001b[1;34m(self, path_or_buf, encoding, sep, columns, index_label, mode, compression, quoting, quotechar, line_terminator, chunksize, date_format, doublequote, escapechar, errors, storage_options)\u001b[0m\n\u001b[0;32m   1159\u001b[0m     created_buffer \u001b[39m=\u001b[39m \u001b[39mFalse\u001b[39;00m\n\u001b[0;32m   1161\u001b[0m csv_formatter \u001b[39m=\u001b[39m CSVFormatter(\n\u001b[0;32m   1162\u001b[0m     path_or_buf\u001b[39m=\u001b[39mpath_or_buf,\n\u001b[0;32m   1163\u001b[0m     line_terminator\u001b[39m=\u001b[39mline_terminator,\n\u001b[1;32m   (...)\u001b[0m\n\u001b[0;32m   1178\u001b[0m     formatter\u001b[39m=\u001b[39m\u001b[39mself\u001b[39m\u001b[39m.\u001b[39mfmt,\n\u001b[0;32m   1179\u001b[0m )\n\u001b[1;32m-> 1180\u001b[0m csv_formatter\u001b[39m.\u001b[39;49msave()\n\u001b[0;32m   1182\u001b[0m \u001b[39mif\u001b[39;00m created_buffer:\n\u001b[0;32m   1183\u001b[0m     \u001b[39massert\u001b[39;00m \u001b[39misinstance\u001b[39m(path_or_buf, StringIO)\n",
      "File \u001b[1;32m~\\AppData\\Roaming\\Python\\Python310\\site-packages\\pandas\\io\\formats\\csvs.py:241\u001b[0m, in \u001b[0;36mCSVFormatter.save\u001b[1;34m(self)\u001b[0m\n\u001b[0;32m    237\u001b[0m \u001b[39m\"\"\"\u001b[39;00m\n\u001b[0;32m    238\u001b[0m \u001b[39mCreate the writer & save.\u001b[39;00m\n\u001b[0;32m    239\u001b[0m \u001b[39m\"\"\"\u001b[39;00m\n\u001b[0;32m    240\u001b[0m \u001b[39m# apply compression and byte/text conversion\u001b[39;00m\n\u001b[1;32m--> 241\u001b[0m \u001b[39mwith\u001b[39;00m get_handle(\n\u001b[0;32m    242\u001b[0m     \u001b[39mself\u001b[39;49m\u001b[39m.\u001b[39;49mfilepath_or_buffer,\n\u001b[0;32m    243\u001b[0m     \u001b[39mself\u001b[39;49m\u001b[39m.\u001b[39;49mmode,\n\u001b[0;32m    244\u001b[0m     encoding\u001b[39m=\u001b[39;49m\u001b[39mself\u001b[39;49m\u001b[39m.\u001b[39;49mencoding,\n\u001b[0;32m    245\u001b[0m     errors\u001b[39m=\u001b[39;49m\u001b[39mself\u001b[39;49m\u001b[39m.\u001b[39;49merrors,\n\u001b[0;32m    246\u001b[0m     compression\u001b[39m=\u001b[39;49m\u001b[39mself\u001b[39;49m\u001b[39m.\u001b[39;49mcompression,\n\u001b[0;32m    247\u001b[0m     storage_options\u001b[39m=\u001b[39;49m\u001b[39mself\u001b[39;49m\u001b[39m.\u001b[39;49mstorage_options,\n\u001b[0;32m    248\u001b[0m ) \u001b[39mas\u001b[39;00m handles:\n\u001b[0;32m    249\u001b[0m \n\u001b[0;32m    250\u001b[0m     \u001b[39m# Note: self.encoding is irrelevant here\u001b[39;00m\n\u001b[0;32m    251\u001b[0m     \u001b[39mself\u001b[39m\u001b[39m.\u001b[39mwriter \u001b[39m=\u001b[39m csvlib\u001b[39m.\u001b[39mwriter(\n\u001b[0;32m    252\u001b[0m         handles\u001b[39m.\u001b[39mhandle,\n\u001b[0;32m    253\u001b[0m         lineterminator\u001b[39m=\u001b[39m\u001b[39mself\u001b[39m\u001b[39m.\u001b[39mline_terminator,\n\u001b[1;32m   (...)\u001b[0m\n\u001b[0;32m    258\u001b[0m         quotechar\u001b[39m=\u001b[39m\u001b[39mself\u001b[39m\u001b[39m.\u001b[39mquotechar,\n\u001b[0;32m    259\u001b[0m     )\n\u001b[0;32m    261\u001b[0m     \u001b[39mself\u001b[39m\u001b[39m.\u001b[39m_save()\n",
      "File \u001b[1;32m~\\AppData\\Roaming\\Python\\Python310\\site-packages\\pandas\\io\\common.py:786\u001b[0m, in \u001b[0;36mget_handle\u001b[1;34m(path_or_buf, mode, encoding, compression, memory_map, is_text, errors, storage_options)\u001b[0m\n\u001b[0;32m    781\u001b[0m \u001b[39melif\u001b[39;00m \u001b[39misinstance\u001b[39m(handle, \u001b[39mstr\u001b[39m):\n\u001b[0;32m    782\u001b[0m     \u001b[39m# Check whether the filename is to be opened in binary mode.\u001b[39;00m\n\u001b[0;32m    783\u001b[0m     \u001b[39m# Binary mode does not support 'encoding' and 'newline'.\u001b[39;00m\n\u001b[0;32m    784\u001b[0m     \u001b[39mif\u001b[39;00m ioargs\u001b[39m.\u001b[39mencoding \u001b[39mand\u001b[39;00m \u001b[39m\"\u001b[39m\u001b[39mb\u001b[39m\u001b[39m\"\u001b[39m \u001b[39mnot\u001b[39;00m \u001b[39min\u001b[39;00m ioargs\u001b[39m.\u001b[39mmode:\n\u001b[0;32m    785\u001b[0m         \u001b[39m# Encoding\u001b[39;00m\n\u001b[1;32m--> 786\u001b[0m         handle \u001b[39m=\u001b[39m \u001b[39mopen\u001b[39;49m(\n\u001b[0;32m    787\u001b[0m             handle,\n\u001b[0;32m    788\u001b[0m             ioargs\u001b[39m.\u001b[39;49mmode,\n\u001b[0;32m    789\u001b[0m             encoding\u001b[39m=\u001b[39;49mioargs\u001b[39m.\u001b[39;49mencoding,\n\u001b[0;32m    790\u001b[0m             errors\u001b[39m=\u001b[39;49merrors,\n\u001b[0;32m    791\u001b[0m             newline\u001b[39m=\u001b[39;49m\u001b[39m\"\u001b[39;49m\u001b[39m\"\u001b[39;49m,\n\u001b[0;32m    792\u001b[0m         )\n\u001b[0;32m    793\u001b[0m     \u001b[39melse\u001b[39;00m:\n\u001b[0;32m    794\u001b[0m         \u001b[39m# Binary mode\u001b[39;00m\n\u001b[0;32m    795\u001b[0m         handle \u001b[39m=\u001b[39m \u001b[39mopen\u001b[39m(handle, ioargs\u001b[39m.\u001b[39mmode)\n",
      "\u001b[1;31mPermissionError\u001b[0m: [Errno 13] Permission denied: '../Data/out/Output.csv'"
     ]
    }
   ],
   "source": [
    "start = time.perf_counter()\n",
    "_ipam = IPAM()\n",
    "_ipam.main()\n",
    "end = time.perf_counter()\n",
    "print(f\"The Whole script completed in {end-start:0.4f} seconds\")\n"
   ]
  }
 ],
 "metadata": {
  "kernelspec": {
   "display_name": "Python 3.10.5 64-bit",
   "language": "python",
   "name": "python3"
  },
  "language_info": {
   "codemirror_mode": {
    "name": "ipython",
    "version": 3
   },
   "file_extension": ".py",
   "mimetype": "text/x-python",
   "name": "python",
   "nbconvert_exporter": "python",
   "pygments_lexer": "ipython3",
   "version": "3.10.5"
  },
  "orig_nbformat": 4,
  "vscode": {
   "interpreter": {
    "hash": "369f2c481f4da34e4445cda3fffd2e751bd1c4d706f27375911949ba6bb62e1c"
   }
  }
 },
 "nbformat": 4,
 "nbformat_minor": 2
}
